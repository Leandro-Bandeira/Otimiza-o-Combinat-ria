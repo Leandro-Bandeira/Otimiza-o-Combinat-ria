{
 "cells": [
  {
   "cell_type": "markdown",
   "metadata": {},
   "source": [
    "## Representação das soluções\n",
    "Uma solução $s$ pode ser representada pela seguinte estrutura."
   ]
  },
  {
   "cell_type": "code",
   "execution_count": 1,
   "metadata": {},
   "outputs": [],
   "source": [
    "typedef struct Solucao{\n",
    "    std::vector<int> sequencia;\n",
    "    double valorObj;\n",
    "} Solucao;"
   ]
  },
  {
   "cell_type": "markdown",
   "metadata": {},
   "source": [
    "$s_1 = (1,3,6,2,4,5,1), f(s_1) = 825$"
   ]
  },
  {
   "cell_type": "code",
   "execution_count": 3,
   "metadata": {},
   "outputs": [],
   "source": [
    "Solucao s1 = {{1,3,6,2,4,5,1}};"
   ]
  },
  {
   "cell_type": "code",
   "execution_count": 4,
   "metadata": {},
   "outputs": [],
   "source": [
    "#include <iostream>\n",
    "\n",
    "void exibirSolucao(Solucao *s)\n",
    "{\n",
    "    for(int i = 0; i < s->sequencia.size() - 1; i++)\n",
    "        std::cout << s->sequencia[i] << \" -> \";\n",
    "    std::cout << s->sequencia.back() << std::endl;\n",
    "}"
   ]
  },
  {
   "cell_type": "code",
   "execution_count": 5,
   "metadata": {},
   "outputs": [
    {
     "name": "stdout",
     "output_type": "stream",
     "text": [
      "1 -> 3 -> 6 -> 2 -> 4 -> 5 -> 1\n"
     ]
    }
   ],
   "source": [
    "exibirSolucao(&s1);"
   ]
  },
  {
   "cell_type": "code",
   "execution_count": 6,
   "metadata": {},
   "outputs": [],
   "source": [
    "double matrizAdj[6][6] = {{0,245,174,118,59,129}, \n",
    "                          {245, 0, 250, 226, 186, 147},\n",
    "                          {174, 250, 0, 274, 169, 114},\n",
    "                          {118, 226,274,0,105,185},\n",
    "                          {59,186,169,105,0,87},\n",
    "                          {129,147,114,185,87,0}};"
   ]
  },
  {
   "cell_type": "markdown",
   "metadata": {},
   "source": [
    "Cálculo de $f(s_1)$"
   ]
  },
  {
   "cell_type": "code",
   "execution_count": 7,
   "metadata": {},
   "outputs": [],
   "source": [
    "void calcularValorObj(Solucao *s){\n",
    "    s->valorObj = 0;\n",
    "    for(int i = 0; i < s->sequencia.size() - 1; i++)\n",
    "        s->valorObj += matrizAdj[s->sequencia[i] - 1][s->sequencia[i+1] - 1];\n",
    "}"
   ]
  },
  {
   "cell_type": "code",
   "execution_count": 8,
   "metadata": {},
   "outputs": [],
   "source": [
    "calcularValorObj(&s1);"
   ]
  },
  {
   "cell_type": "code",
   "execution_count": 9,
   "metadata": {},
   "outputs": [
    {
     "name": "stdout",
     "output_type": "stream",
     "text": [
      "825\n"
     ]
    }
   ],
   "source": [
    "std::cout << s1.valorObj << \"\\n\";"
   ]
  },
  {
   "cell_type": "code",
   "execution_count": null,
   "metadata": {},
   "outputs": [],
   "source": []
  }
 ],
 "metadata": {
  "celltoolbar": "Edit Metadata",
  "kernelspec": {
   "display_name": "C++14",
   "language": "C++14",
   "name": "xcpp14"
  },
  "language_info": {
   "codemirror_mode": "text/x-c++src",
   "file_extension": ".cpp",
   "mimetype": "text/x-c++src",
   "name": "c++",
   "version": "14"
  }
 },
 "nbformat": 4,
 "nbformat_minor": 4
}
